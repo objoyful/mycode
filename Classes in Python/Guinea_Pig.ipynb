{
 "cells": [
  {
   "cell_type": "code",
   "execution_count": 1,
   "metadata": {},
   "outputs": [],
   "source": [
    "def is_fat(fat):\n",
    "        if fat:\n",
    "            return 'very'\n",
    "        else:\n",
    "            return 'not'"
   ]
  },
  {
   "cell_type": "code",
   "execution_count": 2,
   "metadata": {},
   "outputs": [],
   "source": [
    "class Guinea_Pig():\n",
    "    def __init__(self, name, fur, age, fat):\n",
    "        self.name = name\n",
    "        self.fur = fur\n",
    "        self.age = age\n",
    "        self.fat = fat\n",
    "    def introduce(self):\n",
    "        print(f\"Hi, I am {self.name}.\")\n",
    "        print(f\"I have {self.fur} fur.\")\n",
    "        print(f\"I am {self.age} months old.\")\n",
    "        print(f\"I am {is_fat(self.fat)} fat.\\n\")"
   ]
  },
  {
   "cell_type": "code",
   "execution_count": 3,
   "metadata": {},
   "outputs": [],
   "source": [
    "puffy = Guinea_Pig(\"Puffy\", \"black and brown\", 9, True)\n",
    "fluffy = Guinea_Pig(\"Fluffy\", \"white\", 11, False)"
   ]
  },
  {
   "cell_type": "code",
   "execution_count": 4,
   "metadata": {},
   "outputs": [
    {
     "name": "stdout",
     "output_type": "stream",
     "text": [
      "Hi, I am Fluffy.\n",
      "I have white fur.\n",
      "I am 11 months old.\n",
      "I am not fat.\n",
      "\n",
      "Hi, I am Puffy.\n",
      "I have black and brown fur.\n",
      "I am 9 months old.\n",
      "I am very fat.\n",
      "\n"
     ]
    }
   ],
   "source": [
    "fluffy.introduce()\n",
    "puffy.introduce()"
   ]
  },
  {
   "cell_type": "code",
   "execution_count": null,
   "metadata": {},
   "outputs": [],
   "source": []
  }
 ],
 "metadata": {
  "kernelspec": {
   "display_name": "Python 3",
   "language": "python",
   "name": "python3"
  },
  "language_info": {
   "codemirror_mode": {
    "name": "ipython",
    "version": 3
   },
   "file_extension": ".py",
   "mimetype": "text/x-python",
   "name": "python",
   "nbconvert_exporter": "python",
   "pygments_lexer": "ipython3",
   "version": "3.7.3"
  }
 },
 "nbformat": 4,
 "nbformat_minor": 2
}
