{
 "cells": [
  {
   "cell_type": "code",
   "execution_count": 1,
   "metadata": {},
   "outputs": [
    {
     "data": {
      "text/html": [
       "<div>\n",
       "<style scoped>\n",
       "    .dataframe tbody tr th:only-of-type {\n",
       "        vertical-align: middle;\n",
       "    }\n",
       "\n",
       "    .dataframe tbody tr th {\n",
       "        vertical-align: top;\n",
       "    }\n",
       "\n",
       "    .dataframe thead th {\n",
       "        text-align: right;\n",
       "    }\n",
       "</style>\n",
       "<table border=\"1\" class=\"dataframe\">\n",
       "  <thead>\n",
       "    <tr style=\"text-align: right;\">\n",
       "      <th></th>\n",
       "      <th>cancer</th>\n",
       "    </tr>\n",
       "    <tr>\n",
       "      <th>id</th>\n",
       "      <th></th>\n",
       "    </tr>\n",
       "  </thead>\n",
       "  <tbody>\n",
       "    <tr>\n",
       "      <th>0015ceb851d7251b8f399e39779d1e7d</th>\n",
       "      <td>1</td>\n",
       "    </tr>\n",
       "    <tr>\n",
       "      <th>0030a160d58723ff36d73f41b170ec21</th>\n",
       "      <td>0</td>\n",
       "    </tr>\n",
       "    <tr>\n",
       "      <th>003f41c78e6acfa92430a057ac0b306e</th>\n",
       "      <td>0</td>\n",
       "    </tr>\n",
       "    <tr>\n",
       "      <th>006b96310a37b36cccb2ab48d10b49a3</th>\n",
       "      <td>1</td>\n",
       "    </tr>\n",
       "    <tr>\n",
       "      <th>008464bb8521d09a42985dd8add3d0d2</th>\n",
       "      <td>1</td>\n",
       "    </tr>\n",
       "  </tbody>\n",
       "</table>\n",
       "</div>"
      ],
      "text/plain": [
       "                                  cancer\n",
       "id                                      \n",
       "0015ceb851d7251b8f399e39779d1e7d       1\n",
       "0030a160d58723ff36d73f41b170ec21       0\n",
       "003f41c78e6acfa92430a057ac0b306e       0\n",
       "006b96310a37b36cccb2ab48d10b49a3       1\n",
       "008464bb8521d09a42985dd8add3d0d2       1"
      ]
     },
     "execution_count": 1,
     "metadata": {},
     "output_type": "execute_result"
    }
   ],
   "source": [
    "import pydicom as dicom # Read the dicom files\n",
    "import os\n",
    "import pandas as pd\n",
    "\n",
    "dir = '../DSB3/'\n",
    "data_dir = os.path.join(dir, 'stage1')\n",
    "patients = os.listdir(data_dir)\n",
    "labels_df = pd.read_csv(os.path.join(dir, 'stage1_labels.csv'), index_col=0)\n",
    "\n",
    "labels_df.head()"
   ]
  },
  {
   "cell_type": "code",
   "execution_count": 2,
   "metadata": {},
   "outputs": [
    {
     "name": "stdout",
     "output_type": "stream",
     "text": [
      "195 (512, 512)\n",
      "265 (512, 512)\n",
      "233 (512, 512)\n",
      "173 (512, 512)\n",
      "146 (512, 512)\n"
     ]
    }
   ],
   "source": [
    "for patient in patients[:5]:\n",
    "    label = labels_df._get_value(patient, 'cancer')\n",
    "    path = os.path.join(data_dir, patient)\n",
    "    slices = [dicom.read_file(os.path.join(path, s)) for s in os.listdir(path)]\n",
    "    slices.sort(key=lambda x: int(x.ImagePositionPatient[2]))\n",
    "\n",
    "    print(len(slices), slices[0].pixel_array.shape)\n",
    "    # print(slices[0])"
   ]
  },
  {
   "cell_type": "code",
   "execution_count": 3,
   "metadata": {},
   "outputs": [
    {
     "data": {
      "text/plain": [
       "1595"
      ]
     },
     "execution_count": 3,
     "metadata": {},
     "output_type": "execute_result"
    }
   ],
   "source": [
    "len(patients)"
   ]
  },
  {
   "cell_type": "code",
   "execution_count": 8,
   "metadata": {},
   "outputs": [
    {
     "name": "stderr",
     "output_type": "stream",
     "text": [
      "100%|██████████| 20/20 [00:03<00:00,  5.75it/s]"
     ]
    },
    {
     "name": "stdout",
     "output_type": "stream",
     "text": [
      "20\n",
      "2\n"
     ]
    },
    {
     "name": "stderr",
     "output_type": "stream",
     "text": [
      "\n"
     ]
    }
   ],
   "source": [
    "import matplotlib.pyplot as plt\n",
    "import cv2\n",
    "import numpy as np\n",
    "import math\n",
    "from tqdm import tqdm\n",
    "\n",
    "IMG_PX_SIZE = 50\n",
    "HM_SLICES = 20\n",
    "\n",
    "def chunks(l, n):\n",
    "    \"\"\"Yield successive n-sized chunks from l.\"\"\"\n",
    "    for i in range(0, len(l), n):\n",
    "        yield l[i:i + n]\n",
    "\n",
    "def mean(l):\n",
    "    return sum(l) / len(l)\n",
    "\n",
    "def process_data(patient, labels_df, img_px_size=50, hm_slices=20, visualize=False):\n",
    "    label = labels_df._get_value(patient, 'cancer')\n",
    "    path = os.path.join(data_dir, patient)\n",
    "    slices = [dicom.read_file(os.path.join(path, s)) for s in os.listdir(path)]\n",
    "    slices.sort(key=lambda x: int(x.ImagePositionPatient[2]))\n",
    "    \n",
    "    new_slices = []\n",
    "    slices = [cv2.resize(np.array(each_slice.pixel_array), (img_px_size, img_px_size)) for each_slice in slices]\n",
    "    chunk_sizes = math.ceil(len(slices) / hm_slices)\n",
    "\n",
    "    for slice_chunk in chunks(slices, chunk_sizes):\n",
    "        slice_chunk = list(map(mean, zip(*slice_chunk)))\n",
    "        new_slices.append(slice_chunk)\n",
    "    \n",
    "    while len(new_slices) < hm_slices:\n",
    "        new_slices.append(new_slices[-1])\n",
    "    \n",
    "    while len(new_slices) > hm_slices:\n",
    "        new_val = list(map(mean, zip(*[new_slices[-2], new_slices[-1]])))\n",
    "        del new_slices[-1]\n",
    "        new_slices[-1] = new_val\n",
    "    \n",
    "    if len(new_slices) != 20: print(len(new_slices)) \n",
    "    \n",
    "    if visualize:\n",
    "        fig = plt.figure()\n",
    "\n",
    "        for num, each_slice in enumerate(new_slices):\n",
    "            y = fig.add_subplot(4, 5, num + 1)\n",
    "            y.imshow(each_slice)\n",
    "        plt.show()\n",
    "    \n",
    "    if label == 1: label = np.array([0, 1])\n",
    "    elif label == 0: label = np.array([1, 0])\n",
    "\n",
    "    return np.array(new_slices), label\n",
    "\n",
    "much_data = []\n",
    "\n",
    "for num, patient in enumerate(tqdm(patients[:20])):\n",
    "    try:\n",
    "        img_data, label = process_data(patient, labels_df, img_px_size=IMG_PX_SIZE, hm_slices=HM_SLICES)\n",
    "        much_data.append([img_data, label])\n",
    "    except KeyError as e:\n",
    "        print('This is unlabeled data.')\n",
    "try:\n",
    "    os.makedirs('ml71-data')\n",
    "except:\n",
    "    pass\n",
    "\n",
    "\n",
    "\n",
    "np.save(os.path.join('ml71-data', 'muchdata-{}-{}-{}.npy'.format(IMG_PX_SIZE, IMG_PX_SIZE, HM_SLICES)), np.array(much_data, dtype=object))"
   ]
  }
 ],
 "metadata": {
  "kernelspec": {
   "display_name": "Python 3",
   "language": "python",
   "name": "python3"
  },
  "language_info": {
   "codemirror_mode": {
    "name": "ipython",
    "version": 3
   },
   "file_extension": ".py",
   "mimetype": "text/x-python",
   "name": "python",
   "nbconvert_exporter": "python",
   "pygments_lexer": "ipython3",
   "version": "3.10.10"
  },
  "orig_nbformat": 4
 },
 "nbformat": 4,
 "nbformat_minor": 2
}
