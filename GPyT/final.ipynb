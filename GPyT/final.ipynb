{
 "cells": [
  {
   "cell_type": "code",
   "execution_count": 2,
   "metadata": {},
   "outputs": [
    {
     "data": {
      "application/vnd.jupyter.widget-view+json": {
       "model_id": "4dfd389d20f24b01bc3b9b433dcd300d",
       "version_major": 2,
       "version_minor": 0
      },
      "text/plain": [
       "Downloading (…)okenizer_config.json:   0%|          | 0.00/591 [00:00<?, ?B/s]"
      ]
     },
     "metadata": {},
     "output_type": "display_data"
    },
    {
     "data": {
      "application/vnd.jupyter.widget-view+json": {
       "model_id": "c072fa945bab40c4b64ab1e1533c2972",
       "version_major": 2,
       "version_minor": 0
      },
      "text/plain": [
       "Downloading (…)olve/main/vocab.json:   0%|          | 0.00/787k [00:00<?, ?B/s]"
      ]
     },
     "metadata": {},
     "output_type": "display_data"
    },
    {
     "data": {
      "application/vnd.jupyter.widget-view+json": {
       "model_id": "365ab00b4c5f4f66b9416333e046198f",
       "version_major": 2,
       "version_minor": 0
      },
      "text/plain": [
       "Downloading (…)olve/main/merges.txt:   0%|          | 0.00/432k [00:00<?, ?B/s]"
      ]
     },
     "metadata": {},
     "output_type": "display_data"
    },
    {
     "data": {
      "application/vnd.jupyter.widget-view+json": {
       "model_id": "27be0f29faff4a978b47905a311cd6b9",
       "version_major": 2,
       "version_minor": 0
      },
      "text/plain": [
       "Downloading (…)/main/tokenizer.json:   0%|          | 0.00/1.32M [00:00<?, ?B/s]"
      ]
     },
     "metadata": {},
     "output_type": "display_data"
    },
    {
     "data": {
      "application/vnd.jupyter.widget-view+json": {
       "model_id": "7db079ff3eaa48538bb58a285754b5be",
       "version_major": 2,
       "version_minor": 0
      },
      "text/plain": [
       "Downloading (…)in/added_tokens.json:   0%|          | 0.00/24.0 [00:00<?, ?B/s]"
      ]
     },
     "metadata": {},
     "output_type": "display_data"
    },
    {
     "data": {
      "application/vnd.jupyter.widget-view+json": {
       "model_id": "85ed0378796a416196077d973504ae48",
       "version_major": 2,
       "version_minor": 0
      },
      "text/plain": [
       "Downloading (…)cial_tokens_map.json:   0%|          | 0.00/357 [00:00<?, ?B/s]"
      ]
     },
     "metadata": {},
     "output_type": "display_data"
    },
    {
     "name": "stderr",
     "output_type": "stream",
     "text": [
      "/home/bill/.local/lib/python3.10/site-packages/transformers/models/auto/modeling_auto.py:1423: FutureWarning: The class `AutoModelWithLMHead` is deprecated and will be removed in a future version. Please use `AutoModelForCausalLM` for causal language models, `AutoModelForMaskedLM` for masked language models and `AutoModelForSeq2SeqLM` for encoder-decoder models.\n",
      "  warnings.warn(\n"
     ]
    },
    {
     "data": {
      "application/vnd.jupyter.widget-view+json": {
       "model_id": "dc7597482cb1487b9e345477e75482a2",
       "version_major": 2,
       "version_minor": 0
      },
      "text/plain": [
       "Downloading (…)lve/main/config.json:   0%|          | 0.00/737 [00:00<?, ?B/s]"
      ]
     },
     "metadata": {},
     "output_type": "display_data"
    },
    {
     "name": "stderr",
     "output_type": "stream",
     "text": [
      "2023-08-24 15:39:34.431430: I tensorflow/core/util/port.cc:110] oneDNN custom operations are on. You may see slightly different numerical results due to floating-point round-off errors from different computation orders. To turn them off, set the environment variable `TF_ENABLE_ONEDNN_OPTS=0`.\n",
      "2023-08-24 15:39:34.470450: I tensorflow/core/platform/cpu_feature_guard.cc:182] This TensorFlow binary is optimized to use available CPU instructions in performance-critical operations.\n",
      "To enable the following instructions: AVX2 AVX_VNNI FMA, in other operations, rebuild TensorFlow with the appropriate compiler flags.\n"
     ]
    },
    {
     "data": {
      "application/vnd.jupyter.widget-view+json": {
       "model_id": "db784fb0d981457a8be226c322b0e620",
       "version_major": 2,
       "version_minor": 0
      },
      "text/plain": [
       "Downloading pytorch_model.bin:   0%|          | 0.00/516M [00:00<?, ?B/s]"
      ]
     },
     "metadata": {},
     "output_type": "display_data"
    }
   ],
   "source": [
    "from transformers import AutoTokenizer, AutoModelWithLMHead\n",
    "\n",
    "tokenizer = AutoTokenizer.from_pretrained(\"Sentdex/GPyT\")\n",
    "model = AutoModelWithLMHead.from_pretrained(\"Sentdex/GPyT\").to('cuda')\n",
    "\n",
    "def generate(code, max_length=100):\n",
    "    '''Takes input code, replaces newline chars with <N>,\n",
    "    tokenizes, feeds thru model, decodes,\n",
    "    then reformats the newlines back in'''\n",
    "\n",
    "    newlinechar = '<N>'\n",
    "    converted = code.replace('\\n', newlinechar)\n",
    "\n",
    "    tokenized = tokenizer.encode(converted, return_tensors='pt').to('cuda') # type: ignore\n",
    "    resp = model.generate(tokenized, max_length=max_length).to('cuda')\n",
    "\n",
    "    decoded = tokenizer.decode(resp[0])\n",
    "    reformatted = decoded.replace('<N>', '\\n')\n",
    "\n",
    "    return reformatted"
   ]
  },
  {
   "cell_type": "code",
   "execution_count": 3,
   "metadata": {},
   "outputs": [],
   "source": [
    "def next_line_only(original, model_out):\n",
    "    orig_nl = original.count('\\n')\n",
    "    \n",
    "    one_more_lines = [l for l in model_out.splitlines(True)][:orig_nl + 1]\n",
    "    one_more_line = ''.join(one_more_lines)\n",
    "\n",
    "    return one_more_line"
   ]
  },
  {
   "cell_type": "code",
   "execution_count": 4,
   "metadata": {},
   "outputs": [],
   "source": [
    "def stop_at_repeat(model_out):\n",
    "    lines = model_out.splitlines(True)\n",
    "    no_repeat = ''\n",
    "\n",
    "    for l in lines:\n",
    "        if no_repeat.count(l) == 0 or l == '\\n':\n",
    "            no_repeat += l\n",
    "        else:\n",
    "            return no_repeat\n",
    "    return no_repeat"
   ]
  },
  {
   "cell_type": "code",
   "execution_count": 22,
   "metadata": {},
   "outputs": [
    {
     "name": "stderr",
     "output_type": "stream",
     "text": [
      "The attention mask and the pad token id were not set. As a consequence, you may observe unexpected behavior. Please pass your input's `attention_mask` to obtain reliable results.\n",
      "Setting `pad_token_id` to `eos_token_id`:2 for open-end generation.\n"
     ]
    },
    {
     "name": "stdout",
     "output_type": "stream",
     "text": [
      "import tensorflow as tf\n",
      "from tensorflow.keras.models import Sequential\n",
      "\n",
      "model = Sequential()\n",
      "# 3 conv layers\n",
      "model.add(Conv2D(64, (3, 3), strides=(1, 1), padding='same', activation='relu'))\n",
      "model.add(MaxPooling2D((2, 2), strides=(2, 2), padding='same', activation='relu'))\n",
      "model.add(MaxPooling2D((2, 2), strides=(2, 2), padding='same', activation='relu'))\n",
      "model.add(MaxPooling2D((2, 2), strides=(2, 2), padding='same', activation='relu'))\n",
      "model.add(MaxPooling2D((2, 2), strides=(2, 2), padding='same', activation='relu'))\n",
      "model.add(MaxPooling2D((2, 2), strides=(2, 2), padding='same', activation='relu'))\n",
      "model.add(MaxPooling2D((2, 2), strides=(2, 2), padding='same', activation='relu'))\n",
      "model.add(MaxPooling2D((2, 2), strides=(2, 2), padding='same', activation='relu'))\n",
      "model.add(MaxPooling2D((2, 2), strides=(2, 2), padding='same', activation='relu'))\n",
      "model.add(MaxPooling2D((2, 2), strides=(2, 2), padding='same', activation='relu'))\n",
      "model.add(MaxPooling2D((2, 2), strides=(2, 2), padding='same', activation='relu'))\n",
      "model.add(MaxPooling2D((2, 2), strides=(2, 2), padding='same', activation='relu'))\n",
      "model.add(MaxPooling2D((2, 2), strides=(2, 2), padding='same', activation='relu'))\n",
      "<pad> = model.predict(model)\n",
      "<pad> = model.predict(model)\n",
      "<pad> = model.predict(model)\n",
      "<pad><pad> = model.predict(model)\n",
      "<pad><pad><pad><pad><pad><pad><pad><pad><pad><pad><pad><pad><pad><pad><pad><pad><pad><pad><pad><pad><pad><pad><pad><pad><pad><pad><pad><pad><pad><pad><pad><pad><pad><pad><pad><pad><pad><pad>'<pad>'<pad>'<pad><pad>'<pad>'<pad>'<pad>'<pad>'<pad>'<pad>'<pad>'\n"
     ]
    }
   ],
   "source": [
    "inp = \"\"\"import tensorflow as tf\n",
    "from tensorflow.keras.models import Sequential\n",
    "\n",
    "model = Sequential()\n",
    "# 3 conv layers\n",
    "model.add(\"\"\"\n",
    "print(generate(inp, max_length=512))"
   ]
  },
  {
   "cell_type": "code",
   "execution_count": 25,
   "metadata": {},
   "outputs": [],
   "source": [
    "inp = \"\"\"# build a website\n",
    "\n",
    "\"\"\""
   ]
  },
  {
   "cell_type": "code",
   "execution_count": 15,
   "metadata": {},
   "outputs": [
    {
     "data": {
      "text/plain": [
       "<matplotlib.collections.PathCollection at 0x7f84558e3610>"
      ]
     },
     "execution_count": 15,
     "metadata": {},
     "output_type": "execute_result"
    },
    {
     "data": {
      "image/png": "[encoded data removed]",
      "text/plain": [
       "<Figure size 640x480 with 1 Axes>"
      ]
     },
     "metadata": {},
     "output_type": "display_data"
    }
   ],
   "source": [
    "import matplotlib.pyplot as plt\n",
    "\n",
    "x = [1, 2, 3]\n",
    "y = [4, 5, 6]\n",
    "# scatterplot\n",
    "plt.scatter(x, y, c='r', label='x')"
   ]
  },
  {
   "cell_type": "code",
   "execution_count": null,
   "metadata": {},
   "outputs": [],
   "source": []
  }
 ],
 "metadata": {
  "kernelspec": {
   "display_name": "Python 3",
   "language": "python",
   "name": "python3"
  },
  "language_info": {
   "codemirror_mode": {
    "name": "ipython",
    "version": 3
   },
   "file_extension": ".py",
   "mimetype": "text/x-python",
   "name": "python",
   "nbconvert_exporter": "python",
   "pygments_lexer": "ipython3",
   "version": "3.10.12"
  },
  "orig_nbformat": 4
 },
 "nbformat": 4,
 "nbformat_minor": 2
}
