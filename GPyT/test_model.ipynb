{
 "cells": [
  {
   "cell_type": "code",
   "execution_count": 2,
   "metadata": {},
   "outputs": [
    {
     "name": "stderr",
     "output_type": "stream",
     "text": [
      "The attention mask and the pad token id were not set. As a consequence, you may observe unexpected behavior. Please pass your input's `attention_mask` to obtain reliable results.\n",
      "Setting `pad_token_id` to `eos_token_id`:50256 for open-end generation.\n"
     ]
    }
   ],
   "source": [
    "from curtsies.fmtfuncs import red, bold, green, on_blue, yellow, blue, cyan\n",
    "from transformers import GPT2Config, GPT2LMHeadModel, GPT2Tokenizer\n",
    "import os\n",
    "\n",
    "NEWLINECHAR = '<N>'\n",
    "\n",
    "def encode_newlines(inp):\n",
    "    return inp.replace('\\n', NEWLINECHAR)\n",
    "def decode_newlines(inp):\n",
    "    return inp.replace(NEWLINECHAR, '\\n')\n",
    "\n",
    "tokenizer = GPT2Tokenizer.from_pretrained(\"tokenizer\")\n",
    "tokenizer.add_special_tokens({\n",
    "    \"eos_token\": '</s>',\n",
    "    \"bos_token\": '<s>',\n",
    "    \"unk_token\": '<unk>',\n",
    "    \"pad_token\": '<pad>',\n",
    "    \"mask_token\": '<mask>'\n",
    "})\n",
    "\n",
    "\n",
    "model = GPT2LMHeadModel.from_pretrained(\"model\").to('cuda') # type: ignore\n",
    "\n",
    "inp = \"def __init__\"\n",
    "input_ids = tokenizer.encode(inp, return_tensors='pt').to('cuda')\n",
    "\n",
    "model_out = model.generate(\n",
    "    input_ids,\n",
    "    max_length = 512,\n",
    "    num_beams = 10,\n",
    "    temperature = 0.7,\n",
    "    no_repeat_ngram_size = 5,\n",
    "    num_return_sequences = 3,\n",
    "    return_dict_in_generate = True,\n",
    "    output_scores = True\n",
    "    )"
   ]
  },
  {
   "cell_type": "code",
   "execution_count": 4,
   "metadata": {},
   "outputs": [
    {
     "name": "stdout",
     "output_type": "stream",
     "text": [
      "sequences\n",
      "sequences_scores\n",
      "scores\n",
      "beam_indices\n"
     ]
    }
   ],
   "source": [
    "for k in model_out:\n",
    "    print(k)"
   ]
  },
  {
   "cell_type": "code",
   "execution_count": 12,
   "metadata": {},
   "outputs": [
    {
     "name": "stdout",
     "output_type": "stream",
     "text": [
      "508\n",
      "10\n",
      "52000\n",
      "52000\n",
      "52000\n",
      "52000\n",
      "52000\n",
      "52000\n",
      "52000\n",
      "52000\n",
      "52000\n",
      "52000\n"
     ]
    }
   ],
   "source": [
    "print(len(model_out[\"scores\"])) # type: ignore\n",
    "for branch in model_out[\"scores\"]: # type: ignore\n",
    "    print(len(branch))\n",
    "    for scores in branch:\n",
    "        print(len(scores))\n",
    "    break"
   ]
  },
  {
   "cell_type": "code",
   "execution_count": null,
   "metadata": {},
   "outputs": [],
   "source": []
  }
 ],
 "metadata": {
  "kernelspec": {
   "display_name": "Python 3",
   "language": "python",
   "name": "python3"
  },
  "language_info": {
   "codemirror_mode": {
    "name": "ipython",
    "version": 3
   },
   "file_extension": ".py",
   "mimetype": "text/x-python",
   "name": "python",
   "nbconvert_exporter": "python",
   "pygments_lexer": "ipython3",
   "version": "3.10.12"
  },
  "orig_nbformat": 4
 },
 "nbformat": 4,
 "nbformat_minor": 2
}
